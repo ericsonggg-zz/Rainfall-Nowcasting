{
 "cells": [
  {
   "cell_type": "markdown",
   "metadata": {},
   "source": [
    "# Data Pre-processing"
   ]
  },
  {
   "cell_type": "code",
   "execution_count": 1,
   "metadata": {},
   "outputs": [
    {
     "name": "stderr",
     "output_type": "stream",
     "text": [
      "Using TensorFlow backend.\n"
     ]
    }
   ],
   "source": [
    "import numpy as np\n",
    "import pandas as pd\n",
    "from sklearn.model_selection import train_test_split\n",
    "import tensorflow as tf\n",
    "from tensorflow import keras\n",
    "from keras.models import Sequential\n",
    "from keras.layers import Dense, Conv1D, Flatten, MaxPool1D, Dropout, Reshape\n",
    "from sklearn.metrics import classification_report"
   ]
  },
  {
   "cell_type": "code",
   "execution_count": 2,
   "metadata": {},
   "outputs": [
    {
     "data": {
      "text/html": [
       "<div>\n",
       "<style scoped>\n",
       "    .dataframe tbody tr th:only-of-type {\n",
       "        vertical-align: middle;\n",
       "    }\n",
       "\n",
       "    .dataframe tbody tr th {\n",
       "        vertical-align: top;\n",
       "    }\n",
       "\n",
       "    .dataframe thead th {\n",
       "        text-align: right;\n",
       "    }\n",
       "</style>\n",
       "<table border=\"1\" class=\"dataframe\">\n",
       "  <thead>\n",
       "    <tr style=\"text-align: right;\">\n",
       "      <th></th>\n",
       "      <th>Net Radiometer</th>\n",
       "      <th>Incoming Shortwave Radiation</th>\n",
       "      <th>Reflected Shortwave Radiation</th>\n",
       "      <th>Relative Humidity</th>\n",
       "      <th>Ambient Air Temperature</th>\n",
       "      <th>Barometric Pressure</th>\n",
       "      <th>Wind Direction</th>\n",
       "      <th>Wind Speed</th>\n",
       "      <th>Wind Speed at Rain Gauge</th>\n",
       "      <th>Precipitation (Tipping Bucket)</th>\n",
       "    </tr>\n",
       "  </thead>\n",
       "  <tbody>\n",
       "    <tr>\n",
       "      <th>0</th>\n",
       "      <td>-3.076</td>\n",
       "      <td>-2.500</td>\n",
       "      <td>0.000</td>\n",
       "      <td>61.36</td>\n",
       "      <td>2.046</td>\n",
       "      <td>101.4</td>\n",
       "      <td>107.9</td>\n",
       "      <td>2.639</td>\n",
       "      <td>2.217</td>\n",
       "      <td>9.0</td>\n",
       "    </tr>\n",
       "    <tr>\n",
       "      <th>1</th>\n",
       "      <td>-3.080</td>\n",
       "      <td>-2.500</td>\n",
       "      <td>-0.629</td>\n",
       "      <td>61.69</td>\n",
       "      <td>1.972</td>\n",
       "      <td>101.4</td>\n",
       "      <td>109.9</td>\n",
       "      <td>2.082</td>\n",
       "      <td>1.647</td>\n",
       "      <td>9.0</td>\n",
       "    </tr>\n",
       "    <tr>\n",
       "      <th>2</th>\n",
       "      <td>-3.085</td>\n",
       "      <td>-2.500</td>\n",
       "      <td>0.000</td>\n",
       "      <td>62.97</td>\n",
       "      <td>1.822</td>\n",
       "      <td>101.4</td>\n",
       "      <td>97.5</td>\n",
       "      <td>1.986</td>\n",
       "      <td>1.491</td>\n",
       "      <td>9.0</td>\n",
       "    </tr>\n",
       "    <tr>\n",
       "      <th>3</th>\n",
       "      <td>-3.089</td>\n",
       "      <td>-2.500</td>\n",
       "      <td>0.000</td>\n",
       "      <td>62.50</td>\n",
       "      <td>1.699</td>\n",
       "      <td>101.4</td>\n",
       "      <td>91.7</td>\n",
       "      <td>2.513</td>\n",
       "      <td>1.975</td>\n",
       "      <td>9.0</td>\n",
       "    </tr>\n",
       "    <tr>\n",
       "      <th>4</th>\n",
       "      <td>-3.094</td>\n",
       "      <td>-2.500</td>\n",
       "      <td>0.000</td>\n",
       "      <td>63.37</td>\n",
       "      <td>1.737</td>\n",
       "      <td>101.3</td>\n",
       "      <td>92.5</td>\n",
       "      <td>3.000</td>\n",
       "      <td>2.501</td>\n",
       "      <td>9.0</td>\n",
       "    </tr>\n",
       "    <tr>\n",
       "      <th>5</th>\n",
       "      <td>-3.097</td>\n",
       "      <td>-2.500</td>\n",
       "      <td>0.000</td>\n",
       "      <td>65.99</td>\n",
       "      <td>1.371</td>\n",
       "      <td>101.3</td>\n",
       "      <td>95.5</td>\n",
       "      <td>2.406</td>\n",
       "      <td>1.848</td>\n",
       "      <td>9.0</td>\n",
       "    </tr>\n",
       "    <tr>\n",
       "      <th>6</th>\n",
       "      <td>-3.100</td>\n",
       "      <td>-2.500</td>\n",
       "      <td>0.000</td>\n",
       "      <td>67.20</td>\n",
       "      <td>1.436</td>\n",
       "      <td>101.3</td>\n",
       "      <td>94.9</td>\n",
       "      <td>2.722</td>\n",
       "      <td>2.252</td>\n",
       "      <td>9.0</td>\n",
       "    </tr>\n",
       "    <tr>\n",
       "      <th>7</th>\n",
       "      <td>-3.102</td>\n",
       "      <td>-1.875</td>\n",
       "      <td>0.000</td>\n",
       "      <td>65.39</td>\n",
       "      <td>1.531</td>\n",
       "      <td>101.3</td>\n",
       "      <td>92.9</td>\n",
       "      <td>2.956</td>\n",
       "      <td>2.437</td>\n",
       "      <td>9.0</td>\n",
       "    </tr>\n",
       "    <tr>\n",
       "      <th>8</th>\n",
       "      <td>-3.104</td>\n",
       "      <td>-2.500</td>\n",
       "      <td>0.000</td>\n",
       "      <td>65.73</td>\n",
       "      <td>1.559</td>\n",
       "      <td>101.3</td>\n",
       "      <td>97.7</td>\n",
       "      <td>3.148</td>\n",
       "      <td>2.680</td>\n",
       "      <td>9.0</td>\n",
       "    </tr>\n",
       "    <tr>\n",
       "      <th>9</th>\n",
       "      <td>-3.105</td>\n",
       "      <td>-2.500</td>\n",
       "      <td>0.000</td>\n",
       "      <td>65.12</td>\n",
       "      <td>1.549</td>\n",
       "      <td>101.3</td>\n",
       "      <td>99.9</td>\n",
       "      <td>3.613</td>\n",
       "      <td>3.109</td>\n",
       "      <td>9.0</td>\n",
       "    </tr>\n",
       "  </tbody>\n",
       "</table>\n",
       "</div>"
      ],
      "text/plain": [
       "   Net Radiometer  Incoming Shortwave Radiation  \\\n",
       "0          -3.076                        -2.500   \n",
       "1          -3.080                        -2.500   \n",
       "2          -3.085                        -2.500   \n",
       "3          -3.089                        -2.500   \n",
       "4          -3.094                        -2.500   \n",
       "5          -3.097                        -2.500   \n",
       "6          -3.100                        -2.500   \n",
       "7          -3.102                        -1.875   \n",
       "8          -3.104                        -2.500   \n",
       "9          -3.105                        -2.500   \n",
       "\n",
       "   Reflected Shortwave Radiation  Relative Humidity  Ambient Air Temperature  \\\n",
       "0                          0.000              61.36                    2.046   \n",
       "1                         -0.629              61.69                    1.972   \n",
       "2                          0.000              62.97                    1.822   \n",
       "3                          0.000              62.50                    1.699   \n",
       "4                          0.000              63.37                    1.737   \n",
       "5                          0.000              65.99                    1.371   \n",
       "6                          0.000              67.20                    1.436   \n",
       "7                          0.000              65.39                    1.531   \n",
       "8                          0.000              65.73                    1.559   \n",
       "9                          0.000              65.12                    1.549   \n",
       "\n",
       "   Barometric Pressure  Wind Direction  Wind Speed  Wind Speed at Rain Gauge  \\\n",
       "0                101.4           107.9       2.639                     2.217   \n",
       "1                101.4           109.9       2.082                     1.647   \n",
       "2                101.4            97.5       1.986                     1.491   \n",
       "3                101.4            91.7       2.513                     1.975   \n",
       "4                101.3            92.5       3.000                     2.501   \n",
       "5                101.3            95.5       2.406                     1.848   \n",
       "6                101.3            94.9       2.722                     2.252   \n",
       "7                101.3            92.9       2.956                     2.437   \n",
       "8                101.3            97.7       3.148                     2.680   \n",
       "9                101.3            99.9       3.613                     3.109   \n",
       "\n",
       "   Precipitation (Tipping Bucket)  \n",
       "0                             9.0  \n",
       "1                             9.0  \n",
       "2                             9.0  \n",
       "3                             9.0  \n",
       "4                             9.0  \n",
       "5                             9.0  \n",
       "6                             9.0  \n",
       "7                             9.0  \n",
       "8                             9.0  \n",
       "9                             9.0  "
      ]
     },
     "execution_count": 2,
     "metadata": {},
     "output_type": "execute_result"
    }
   ],
   "source": [
    "weather_raw_df = pd.read_csv('the_ultimate_complete_data_delet.csv',',',header=0,dtype='float64',nrows=100000)\n",
    "weather_raw_df.drop(['Belfort Rain Gauge','Logger Battery Voltage','Year','Julian Day','Time'],axis=1,inplace=True)\n",
    "\n",
    "weather_labels = weather_raw_df['Precipitation (Tipping Bucket) 3H'].copy()\n",
    "\n",
    "weather_raw_df.drop(['Precipitation (Tipping Bucket) 3H'],axis=1,inplace=True)\n",
    "\n",
    "weather_raw_df.head(10)"
   ]
  },
  {
   "cell_type": "code",
   "execution_count": 3,
   "metadata": {},
   "outputs": [],
   "source": [
    "mask = weather_raw_df['Precipitation (Tipping Bucket)'] > 0\n",
    "mask2 = weather_raw_df['Precipitation (Tipping Bucket)'] <= 0\n",
    "weather_raw_df.loc[mask,'Precipitation (Tipping Bucket)'] = 1\n",
    "weather_raw_df.loc[mask2,'Precipitation (Tipping Bucket)'] = 0"
   ]
  },
  {
   "cell_type": "code",
   "execution_count": 4,
   "metadata": {},
   "outputs": [],
   "source": [
    "i = 0\n",
    "for column in weather_raw_df:\n",
    "    if i < 9:\n",
    "        weather_raw_df.loc[:,column] += np.absolute(weather_raw_df[column].min())\n",
    "        weather_raw_df.loc[:,column] /= weather_raw_df[column].max()\n",
    "        weather_raw_df.loc[:,column] -= np.mean(weather_raw_df[column])\n",
    "        #weather_raw_df.loc[:,column] /= np.std(weather_raw_df[column])\n",
    "    i += 1"
   ]
  },
  {
   "cell_type": "code",
   "execution_count": 5,
   "metadata": {},
   "outputs": [],
   "source": [
    "mask = weather_labels > 0\n",
    "mask2 = weather_labels <= 0\n",
    "weather_labels.loc[mask] = 1\n",
    "weather_labels.loc[mask2] = 0"
   ]
  },
  {
   "cell_type": "markdown",
   "metadata": {},
   "source": [
    "# Train Test Data Split"
   ]
  },
  {
   "cell_type": "code",
   "execution_count": 6,
   "metadata": {},
   "outputs": [],
   "source": [
    "x_train, x_test, y_train, y_test = train_test_split(weather_raw_df, weather_labels, test_size=0.2, random_state=69, shuffle=True)"
   ]
  },
  {
   "cell_type": "markdown",
   "metadata": {},
   "source": [
    "# CNN Model"
   ]
  },
  {
   "cell_type": "code",
   "execution_count": null,
   "metadata": {},
   "outputs": [],
   "source": [
    "model = Sequential([\n",
    "     Reshape((1,10), input_shape=(10,)),\n",
    "     Conv1D(32, (1), activation='relu', input_shape=(1,10)),\n",
    "     Conv1D(64, (1), activation='relu'),\n",
    "     MaxPool1D(1),\n",
    "     Flatten(),\n",
    "     Dense(128, activation='relu'),\n",
    "     Dropout(0.2),\n",
    "     Dense(128, activation='relu'),\n",
    "     Dropout(0.2),\n",
    "     Dense(128, activation='relu'),\n",
    "     Dense(128, activation='relu'),\n",
    "     Dense(2, activation='softmax')\n",
    "])\n",
    "\n",
    "model.compile(optimizer='sgd',\n",
    "              loss='sparse_categorical_crossentropy',\n",
    "              metrics=['accuracy'])\n",
    "\n",
    "# info = model.fit(x=x_train, y=y_train, validation_data=(x_val,y_val), epochs=15)\n",
    "info = model.fit(x=x_train, y=y_train, validation_split=0.2, epochs=3)"
   ]
  },
  {
   "cell_type": "code",
   "execution_count": null,
   "metadata": {},
   "outputs": [],
   "source": [
    "predictions = model.predict(x_test)\n",
    "predictions = np.argmax(predictions,axis=1)"
   ]
  },
  {
   "cell_type": "code",
   "execution_count": null,
   "metadata": {},
   "outputs": [],
   "source": [
    "print(classification_report(y_test, predictions))"
   ]
  },
  {
   "cell_type": "markdown",
   "metadata": {},
   "source": [
    "# SVM Model"
   ]
  },
  {
   "cell_type": "code",
   "execution_count": 12,
   "metadata": {},
   "outputs": [],
   "source": [
    "from sklearn import svm"
   ]
  },
  {
   "cell_type": "code",
   "execution_count": 13,
   "metadata": {},
   "outputs": [],
   "source": [
    "SVM = svm.SVC(kernel='sigmoid',gamma='auto', verbose=True)"
   ]
  },
  {
   "cell_type": "code",
   "execution_count": 14,
   "metadata": {},
   "outputs": [
    {
     "name": "stdout",
     "output_type": "stream",
     "text": [
      "[LibSVM]"
     ]
    },
    {
     "data": {
      "text/plain": [
       "SVC(C=1.0, cache_size=200, class_weight=None, coef0=0.0,\n",
       "  decision_function_shape='ovr', degree=3, gamma='auto', kernel='sigmoid',\n",
       "  max_iter=-1, probability=False, random_state=None, shrinking=True,\n",
       "  tol=0.001, verbose=True)"
      ]
     },
     "execution_count": 14,
     "metadata": {},
     "output_type": "execute_result"
    }
   ],
   "source": [
    "SVM.fit(x_train, y_train)"
   ]
  },
  {
   "cell_type": "code",
   "execution_count": 15,
   "metadata": {},
   "outputs": [
    {
     "data": {
      "text/plain": [
       "array([0., 0., 0., ..., 0., 0., 0.])"
      ]
     },
     "execution_count": 15,
     "metadata": {},
     "output_type": "execute_result"
    }
   ],
   "source": [
    "svm_predictions = SVM.predict(x_test)\n",
    "#svm_predictions = np.argmax(svm_predictions,axis=1)\n",
    "svm_predictions"
   ]
  },
  {
   "cell_type": "code",
   "execution_count": 12,
   "metadata": {},
   "outputs": [
    {
     "name": "stdout",
     "output_type": "stream",
     "text": [
      "              precision    recall  f1-score   support\n",
      "\n",
      "         0.0       0.96      1.00      0.98     19145\n",
      "         1.0       0.64      0.15      0.24       855\n",
      "\n",
      "   micro avg       0.96      0.96      0.96     20000\n",
      "   macro avg       0.80      0.57      0.61     20000\n",
      "weighted avg       0.95      0.96      0.95     20000\n",
      "\n"
     ]
    }
   ],
   "source": [
    "print(classification_report(y_test, svm_predictions)) #rbf gamma=scale"
   ]
  },
  {
   "cell_type": "code",
   "execution_count": 11,
   "metadata": {},
   "outputs": [
    {
     "name": "stdout",
     "output_type": "stream",
     "text": [
      "              precision    recall  f1-score   support\n",
      "\n",
      "         0.0       0.96      1.00      0.98     19145\n",
      "         1.0       0.00      0.00      0.00       855\n",
      "\n",
      "   micro avg       0.96      0.96      0.96     20000\n",
      "   macro avg       0.48      0.50      0.49     20000\n",
      "weighted avg       0.92      0.96      0.94     20000\n",
      "\n"
     ]
    },
    {
     "name": "stderr",
     "output_type": "stream",
     "text": [
      "C:\\Users\\CAN\\Anaconda3\\lib\\site-packages\\sklearn\\metrics\\classification.py:1143: UndefinedMetricWarning: Precision and F-score are ill-defined and being set to 0.0 in labels with no predicted samples.\n",
      "  'precision', 'predicted', average, warn_for)\n"
     ]
    }
   ],
   "source": [
    "print(classification_report(y_test, svm_predictions)) #rbf gamma=auto"
   ]
  },
  {
   "cell_type": "code",
   "execution_count": 18,
   "metadata": {},
   "outputs": [
    {
     "name": "stdout",
     "output_type": "stream",
     "text": [
      "              precision    recall  f1-score   support\n",
      "\n",
      "         0.0       0.96      0.96      0.96     19145\n",
      "         1.0       0.16      0.17      0.16       855\n",
      "\n",
      "   micro avg       0.93      0.93      0.93     20000\n",
      "   macro avg       0.56      0.56      0.56     20000\n",
      "weighted avg       0.93      0.93      0.93     20000\n",
      "\n"
     ]
    }
   ],
   "source": [
    "print(classification_report(y_test, svm_predictions)) #sigmoid gamma-scale"
   ]
  },
  {
   "cell_type": "code",
   "execution_count": 16,
   "metadata": {},
   "outputs": [
    {
     "name": "stdout",
     "output_type": "stream",
     "text": [
      "              precision    recall  f1-score   support\n",
      "\n",
      "         0.0       0.96      1.00      0.98     19145\n",
      "         1.0       0.00      0.00      0.00       855\n",
      "\n",
      "   micro avg       0.96      0.96      0.96     20000\n",
      "   macro avg       0.48      0.50      0.49     20000\n",
      "weighted avg       0.92      0.96      0.94     20000\n",
      "\n"
     ]
    },
    {
     "name": "stderr",
     "output_type": "stream",
     "text": [
      "C:\\Users\\CAN\\Anaconda3\\lib\\site-packages\\sklearn\\metrics\\classification.py:1143: UndefinedMetricWarning: Precision and F-score are ill-defined and being set to 0.0 in labels with no predicted samples.\n",
      "  'precision', 'predicted', average, warn_for)\n"
     ]
    }
   ],
   "source": [
    "print(classification_report(y_test, svm_predictions)) #sigmoid gamma-auto"
   ]
  },
  {
   "cell_type": "code",
   "execution_count": 22,
   "metadata": {},
   "outputs": [
    {
     "name": "stdout",
     "output_type": "stream",
     "text": [
      "              precision    recall  f1-score   support\n",
      "\n",
      "         0.0       0.96      1.00      0.98     19145\n",
      "         1.0       0.70      0.09      0.17       855\n",
      "\n",
      "   micro avg       0.96      0.96      0.96     20000\n",
      "   macro avg       0.83      0.55      0.57     20000\n",
      "weighted avg       0.95      0.96      0.94     20000\n",
      "\n"
     ]
    }
   ],
   "source": [
    "print(classification_report(y_test, svm_predictions)) #poly3"
   ]
  },
  {
   "cell_type": "code",
   "execution_count": 26,
   "metadata": {},
   "outputs": [
    {
     "name": "stdout",
     "output_type": "stream",
     "text": [
      "              precision    recall  f1-score   support\n",
      "\n",
      "         0.0       0.97      0.99      0.98     19145\n",
      "         1.0       0.66      0.24      0.35       855\n",
      "\n",
      "   micro avg       0.96      0.96      0.96     20000\n",
      "   macro avg       0.82      0.62      0.67     20000\n",
      "weighted avg       0.95      0.96      0.95     20000\n",
      "\n"
     ]
    }
   ],
   "source": [
    "print(classification_report(y_test, svm_predictions)) #poly5 C1"
   ]
  },
  {
   "cell_type": "code",
   "execution_count": 14,
   "metadata": {},
   "outputs": [
    {
     "name": "stdout",
     "output_type": "stream",
     "text": [
      "              precision    recall  f1-score   support\n",
      "\n",
      "         0.0       0.97      0.99      0.98     19145\n",
      "         1.0       0.66      0.23      0.34       855\n",
      "\n",
      "   micro avg       0.96      0.96      0.96     20000\n",
      "   macro avg       0.81      0.61      0.66     20000\n",
      "weighted avg       0.95      0.96      0.95     20000\n",
      "\n"
     ]
    }
   ],
   "source": [
    "print(classification_report(y_test, svm_predictions)) #poly4 C1.5"
   ]
  },
  {
   "cell_type": "code",
   "execution_count": 18,
   "metadata": {},
   "outputs": [
    {
     "name": "stdout",
     "output_type": "stream",
     "text": [
      "              precision    recall  f1-score   support\n",
      "\n",
      "         0.0       0.97      0.99      0.98     19145\n",
      "         1.0       0.66      0.23      0.34       855\n",
      "\n",
      "   micro avg       0.96      0.96      0.96     20000\n",
      "   macro avg       0.81      0.61      0.66     20000\n",
      "weighted avg       0.95      0.96      0.95     20000\n",
      "\n"
     ]
    }
   ],
   "source": [
    "print(classification_report(y_test, svm_predictions)) #poly4 C2"
   ]
  },
  {
   "cell_type": "code",
   "execution_count": null,
   "metadata": {},
   "outputs": [],
   "source": [
    "print(classification_report(y_test, svm_predictions)) #poly6 C.75"
   ]
  },
  {
   "cell_type": "code",
   "execution_count": null,
   "metadata": {},
   "outputs": [],
   "source": []
  }
 ],
 "metadata": {
  "kernelspec": {
   "display_name": "Python 3",
   "language": "python",
   "name": "python3"
  },
  "language_info": {
   "codemirror_mode": {
    "name": "ipython",
    "version": 3
   },
   "file_extension": ".py",
   "mimetype": "text/x-python",
   "name": "python",
   "nbconvert_exporter": "python",
   "pygments_lexer": "ipython3",
   "version": "3.6.8"
  }
 },
 "nbformat": 4,
 "nbformat_minor": 2
}
