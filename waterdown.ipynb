{
 "cells": [
  {
   "cell_type": "markdown",
   "metadata": {},
   "source": [
    "# Data Pre-processing"
   ]
  },
  {
   "cell_type": "code",
   "execution_count": null,
   "metadata": {},
   "outputs": [],
   "source": [
    "import numpy as np\n",
    "import pandas as pd\n",
    "from sklearn.model_selection import train_test_split\n",
    "import tensorflow as tf\n",
    "from tensorflow import keras\n",
    "from keras.models import Sequential\n",
    "from keras.layers import Dense, Conv1D, Flatten, MaxPool1D, Dropout, Reshape\n",
    "from sklearn.metrics import classification_report"
   ]
  },
  {
   "cell_type": "code",
   "execution_count": null,
   "metadata": {},
   "outputs": [],
   "source": [
    "weather_raw_df = pd.read_csv('the_ultimate_complete_data_delet.csv',',',header=0,dtype='float64',nrows=100000)\n",
    "weather_raw_df.drop(['Belfort Rain Gauge','Logger Battery Voltage','Year','Julian Day','Time'],axis=1,inplace=True)\n",
    "\n",
    "weather_labels = weather_raw_df['Precipitation (Tipping Bucket) 3H'].copy()\n",
    "\n",
    "weather_raw_df.drop(['Precipitation (Tipping Bucket) 3H'],axis=1,inplace=True)\n",
    "\n",
    "weather_raw_df.head(10)"
   ]
  },
  {
   "cell_type": "code",
   "execution_count": null,
   "metadata": {},
   "outputs": [],
   "source": [
    "mask = weather_raw_df['Precipitation (Tipping Bucket)'] > 0\n",
    "mask2 = weather_raw_df['Precipitation (Tipping Bucket)'] <= 0\n",
    "weather_raw_df.loc[mask,'Precipitation (Tipping Bucket)'] = 1\n",
    "weather_raw_df.loc[mask2,'Precipitation (Tipping Bucket)'] = 0"
   ]
  },
  {
   "cell_type": "code",
   "execution_count": null,
   "metadata": {},
   "outputs": [],
   "source": [
    "i = 0\n",
    "for column in weather_raw_df:\n",
    "    if i < 9:\n",
    "        weather_raw_df.loc[:,column] += np.absolute(weather_raw_df[column].min())\n",
    "        weather_raw_df.loc[:,column] /= weather_raw_df[column].max()\n",
    "        weather_raw_df.loc[:,column] -= np.mean(weather_raw_df[column])\n",
    "        #weather_raw_df.loc[:,column] /= np.std(weather_raw_df[column])\n",
    "    i += 1"
   ]
  },
  {
   "cell_type": "code",
   "execution_count": null,
   "metadata": {},
   "outputs": [],
   "source": [
    "mask = weather_labels > 0\n",
    "mask2 = weather_labels <= 0\n",
    "weather_labels.loc[mask] = 1\n",
    "weather_labels.loc[mask2] = 0"
   ]
  },
  {
   "cell_type": "markdown",
   "metadata": {},
   "source": [
    "# Train Test Data Split"
   ]
  },
  {
   "cell_type": "code",
   "execution_count": null,
   "metadata": {},
   "outputs": [],
   "source": [
    "x_train, x_test, y_train, y_test = train_test_split(weather_raw_df, weather_labels, test_size=0.2, random_state=69, shuffle=True)"
   ]
  },
  {
   "cell_type": "markdown",
   "metadata": {},
   "source": [
    "# CNN Model"
   ]
  },
  {
   "cell_type": "code",
   "execution_count": null,
   "metadata": {},
   "outputs": [],
   "source": [
    "model = Sequential([\n",
    "     Reshape((1,10), input_shape=(10,)),\n",
    "     Conv1D(32, (1), activation='relu', input_shape=(1,10)),\n",
    "     Conv1D(64, (1), activation='relu'),\n",
    "     MaxPool1D(1),\n",
    "     Flatten(),\n",
    "     Dense(128, activation='relu'),\n",
    "     Dropout(0.2),\n",
    "     Dense(128, activation='relu'),\n",
    "     Dropout(0.2),\n",
    "     Dense(128, activation='relu'),\n",
    "     Dense(128, activation='relu'),\n",
    "     Dense(2, activation='softmax')\n",
    "])\n",
    "\n",
    "model.compile(optimizer='sgd',\n",
    "              loss='sparse_categorical_crossentropy',\n",
    "              metrics=['accuracy'])\n",
    "\n",
    "# info = model.fit(x=x_train, y=y_train, validation_data=(x_val,y_val), epochs=15)\n",
    "info = model.fit(x=x_train, y=y_train, validation_split=0.2, epochs=3)"
   ]
  },
  {
   "cell_type": "code",
   "execution_count": null,
   "metadata": {},
   "outputs": [],
   "source": [
    "predictions = model.predict(x_test)\n",
    "predictions = np.argmax(predictions,axis=1)"
   ]
  },
  {
   "cell_type": "code",
   "execution_count": null,
   "metadata": {},
   "outputs": [],
   "source": [
    "print(classification_report(y_test, predictions))"
   ]
  },
  {
   "cell_type": "markdown",
   "metadata": {},
   "source": [
    "# SVM Model"
   ]
  },
  {
   "cell_type": "code",
   "execution_count": null,
   "metadata": {},
   "outputs": [],
   "source": [
    "from sklearn import svm"
   ]
  },
  {
   "cell_type": "code",
   "execution_count": null,
   "metadata": {},
   "outputs": [],
   "source": [
    "SVM = svm.SVC(gamma='scale', verbose=True)\n",
    "SVM.fit(x_train, y_train)"
   ]
  },
  {
   "cell_type": "code",
   "execution_count": null,
   "metadata": {},
   "outputs": [],
   "source": [
    "svm_predictions = SVM.predict(x_test)\n",
    "#svm_predictions = np.argmax(svm_predictions,axis=1)\n",
    "svm_predictions"
   ]
  },
  {
   "cell_type": "code",
   "execution_count": null,
   "metadata": {},
   "outputs": [],
   "source": [
    "print(classification_report(y_test, svm_predictions))"
   ]
  },
  {
   "cell_type": "code",
   "execution_count": null,
   "metadata": {},
   "outputs": [],
   "source": []
  },
  {
   "cell_type": "code",
   "execution_count": null,
   "metadata": {},
   "outputs": [],
   "source": []
  }
 ],
 "metadata": {
  "kernelspec": {
   "display_name": "Python 3",
   "language": "python",
   "name": "python3"
  },
  "language_info": {
   "codemirror_mode": {
    "name": "ipython",
    "version": 3
   },
   "file_extension": ".py",
   "mimetype": "text/x-python",
   "name": "python",
   "nbconvert_exporter": "python",
   "pygments_lexer": "ipython3",
   "version": "3.6.8"
  }
 },
 "nbformat": 4,
 "nbformat_minor": 2
}
