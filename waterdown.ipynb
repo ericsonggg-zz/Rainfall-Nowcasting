{
 "cells": [
  {
   "cell_type": "markdown",
   "metadata": {},
   "source": [
    "# Data Pre-processing"
   ]
  },
  {
   "cell_type": "code",
   "execution_count": 1,
   "metadata": {},
   "outputs": [
    {
     "name": "stderr",
     "output_type": "stream",
     "text": [
      "Using TensorFlow backend.\n"
     ]
    }
   ],
   "source": [
    "import numpy as np\n",
    "import pandas as pd\n",
    "import tensorflow as tf\n",
    "from tensorflow import keras\n",
    "from keras.models import Sequential\n",
    "from keras.layers import Dense, Conv1D, Flatten, MaxPool1D, Dropout, Reshape\n",
    "from sklearn.metrics import classification_report"
   ]
  },
  {
   "cell_type": "code",
   "execution_count": 2,
   "metadata": {},
   "outputs": [
    {
     "data": {
      "text/html": [
       "<div>\n",
       "<style scoped>\n",
       "    .dataframe tbody tr th:only-of-type {\n",
       "        vertical-align: middle;\n",
       "    }\n",
       "\n",
       "    .dataframe tbody tr th {\n",
       "        vertical-align: top;\n",
       "    }\n",
       "\n",
       "    .dataframe thead th {\n",
       "        text-align: right;\n",
       "    }\n",
       "</style>\n",
       "<table border=\"1\" class=\"dataframe\">\n",
       "  <thead>\n",
       "    <tr style=\"text-align: right;\">\n",
       "      <th></th>\n",
       "      <th>Net Radiometer</th>\n",
       "      <th>Incoming Shortwave Radiation</th>\n",
       "      <th>Reflected Shortwave Radiation</th>\n",
       "      <th>Relative Humidity</th>\n",
       "      <th>Ambient Air Temperature</th>\n",
       "      <th>Barometric Pressure</th>\n",
       "      <th>Wind Direction</th>\n",
       "      <th>Wind Speed</th>\n",
       "      <th>Wind Speed at Rain Gauge</th>\n",
       "      <th>Precipitation (Tipping Bucket)</th>\n",
       "    </tr>\n",
       "  </thead>\n",
       "  <tbody>\n",
       "    <tr>\n",
       "      <th>0</th>\n",
       "      <td>-3.076</td>\n",
       "      <td>-2.500</td>\n",
       "      <td>0.000</td>\n",
       "      <td>61.36</td>\n",
       "      <td>2.046</td>\n",
       "      <td>101.4</td>\n",
       "      <td>107.9</td>\n",
       "      <td>2.639</td>\n",
       "      <td>2.217</td>\n",
       "      <td>9.0</td>\n",
       "    </tr>\n",
       "    <tr>\n",
       "      <th>1</th>\n",
       "      <td>-3.080</td>\n",
       "      <td>-2.500</td>\n",
       "      <td>-0.629</td>\n",
       "      <td>61.69</td>\n",
       "      <td>1.972</td>\n",
       "      <td>101.4</td>\n",
       "      <td>109.9</td>\n",
       "      <td>2.082</td>\n",
       "      <td>1.647</td>\n",
       "      <td>9.0</td>\n",
       "    </tr>\n",
       "    <tr>\n",
       "      <th>2</th>\n",
       "      <td>-3.085</td>\n",
       "      <td>-2.500</td>\n",
       "      <td>0.000</td>\n",
       "      <td>62.97</td>\n",
       "      <td>1.822</td>\n",
       "      <td>101.4</td>\n",
       "      <td>97.5</td>\n",
       "      <td>1.986</td>\n",
       "      <td>1.491</td>\n",
       "      <td>9.0</td>\n",
       "    </tr>\n",
       "    <tr>\n",
       "      <th>3</th>\n",
       "      <td>-3.089</td>\n",
       "      <td>-2.500</td>\n",
       "      <td>0.000</td>\n",
       "      <td>62.50</td>\n",
       "      <td>1.699</td>\n",
       "      <td>101.4</td>\n",
       "      <td>91.7</td>\n",
       "      <td>2.513</td>\n",
       "      <td>1.975</td>\n",
       "      <td>9.0</td>\n",
       "    </tr>\n",
       "    <tr>\n",
       "      <th>4</th>\n",
       "      <td>-3.094</td>\n",
       "      <td>-2.500</td>\n",
       "      <td>0.000</td>\n",
       "      <td>63.37</td>\n",
       "      <td>1.737</td>\n",
       "      <td>101.3</td>\n",
       "      <td>92.5</td>\n",
       "      <td>3.000</td>\n",
       "      <td>2.501</td>\n",
       "      <td>9.0</td>\n",
       "    </tr>\n",
       "    <tr>\n",
       "      <th>5</th>\n",
       "      <td>-3.097</td>\n",
       "      <td>-2.500</td>\n",
       "      <td>0.000</td>\n",
       "      <td>65.99</td>\n",
       "      <td>1.371</td>\n",
       "      <td>101.3</td>\n",
       "      <td>95.5</td>\n",
       "      <td>2.406</td>\n",
       "      <td>1.848</td>\n",
       "      <td>9.0</td>\n",
       "    </tr>\n",
       "    <tr>\n",
       "      <th>6</th>\n",
       "      <td>-3.100</td>\n",
       "      <td>-2.500</td>\n",
       "      <td>0.000</td>\n",
       "      <td>67.20</td>\n",
       "      <td>1.436</td>\n",
       "      <td>101.3</td>\n",
       "      <td>94.9</td>\n",
       "      <td>2.722</td>\n",
       "      <td>2.252</td>\n",
       "      <td>9.0</td>\n",
       "    </tr>\n",
       "    <tr>\n",
       "      <th>7</th>\n",
       "      <td>-3.102</td>\n",
       "      <td>-1.875</td>\n",
       "      <td>0.000</td>\n",
       "      <td>65.39</td>\n",
       "      <td>1.531</td>\n",
       "      <td>101.3</td>\n",
       "      <td>92.9</td>\n",
       "      <td>2.956</td>\n",
       "      <td>2.437</td>\n",
       "      <td>9.0</td>\n",
       "    </tr>\n",
       "    <tr>\n",
       "      <th>8</th>\n",
       "      <td>-3.104</td>\n",
       "      <td>-2.500</td>\n",
       "      <td>0.000</td>\n",
       "      <td>65.73</td>\n",
       "      <td>1.559</td>\n",
       "      <td>101.3</td>\n",
       "      <td>97.7</td>\n",
       "      <td>3.148</td>\n",
       "      <td>2.680</td>\n",
       "      <td>9.0</td>\n",
       "    </tr>\n",
       "    <tr>\n",
       "      <th>9</th>\n",
       "      <td>-3.105</td>\n",
       "      <td>-2.500</td>\n",
       "      <td>0.000</td>\n",
       "      <td>65.12</td>\n",
       "      <td>1.549</td>\n",
       "      <td>101.3</td>\n",
       "      <td>99.9</td>\n",
       "      <td>3.613</td>\n",
       "      <td>3.109</td>\n",
       "      <td>9.0</td>\n",
       "    </tr>\n",
       "  </tbody>\n",
       "</table>\n",
       "</div>"
      ],
      "text/plain": [
       "   Net Radiometer  Incoming Shortwave Radiation  \\\n",
       "0          -3.076                        -2.500   \n",
       "1          -3.080                        -2.500   \n",
       "2          -3.085                        -2.500   \n",
       "3          -3.089                        -2.500   \n",
       "4          -3.094                        -2.500   \n",
       "5          -3.097                        -2.500   \n",
       "6          -3.100                        -2.500   \n",
       "7          -3.102                        -1.875   \n",
       "8          -3.104                        -2.500   \n",
       "9          -3.105                        -2.500   \n",
       "\n",
       "   Reflected Shortwave Radiation  Relative Humidity  Ambient Air Temperature  \\\n",
       "0                          0.000              61.36                    2.046   \n",
       "1                         -0.629              61.69                    1.972   \n",
       "2                          0.000              62.97                    1.822   \n",
       "3                          0.000              62.50                    1.699   \n",
       "4                          0.000              63.37                    1.737   \n",
       "5                          0.000              65.99                    1.371   \n",
       "6                          0.000              67.20                    1.436   \n",
       "7                          0.000              65.39                    1.531   \n",
       "8                          0.000              65.73                    1.559   \n",
       "9                          0.000              65.12                    1.549   \n",
       "\n",
       "   Barometric Pressure  Wind Direction  Wind Speed  Wind Speed at Rain Gauge  \\\n",
       "0                101.4           107.9       2.639                     2.217   \n",
       "1                101.4           109.9       2.082                     1.647   \n",
       "2                101.4            97.5       1.986                     1.491   \n",
       "3                101.4            91.7       2.513                     1.975   \n",
       "4                101.3            92.5       3.000                     2.501   \n",
       "5                101.3            95.5       2.406                     1.848   \n",
       "6                101.3            94.9       2.722                     2.252   \n",
       "7                101.3            92.9       2.956                     2.437   \n",
       "8                101.3            97.7       3.148                     2.680   \n",
       "9                101.3            99.9       3.613                     3.109   \n",
       "\n",
       "   Precipitation (Tipping Bucket)  \n",
       "0                             9.0  \n",
       "1                             9.0  \n",
       "2                             9.0  \n",
       "3                             9.0  \n",
       "4                             9.0  \n",
       "5                             9.0  \n",
       "6                             9.0  \n",
       "7                             9.0  \n",
       "8                             9.0  \n",
       "9                             9.0  "
      ]
     },
     "execution_count": 2,
     "metadata": {},
     "output_type": "execute_result"
    }
   ],
   "source": [
    "weather_raw_df = pd.read_csv('the_ultimate_complete_data_delet.csv',',',header=0,dtype='float64')\n",
    "weather_raw_df.drop(['Belfort Rain Gauge','Logger Battery Voltage','Year','Julian Day','Time'],axis=1,inplace=True)\n",
    "\n",
    "weather_labels = weather_raw_df['Precipitation (Tipping Bucket) 3H'].copy()\n",
    "\n",
    "weather_raw_df.drop(['Precipitation (Tipping Bucket) 3H'],axis=1,inplace=True)\n",
    "\n",
    "weather_raw_df.head(10)"
   ]
  },
  {
   "cell_type": "code",
   "execution_count": 3,
   "metadata": {},
   "outputs": [],
   "source": [
    "mask = weather_raw_df['Precipitation (Tipping Bucket)'] > 0\n",
    "mask2 = weather_raw_df['Precipitation (Tipping Bucket)'] <= 0\n",
    "weather_raw_df.loc[mask,'Precipitation (Tipping Bucket)'] = 1\n",
    "weather_raw_df.loc[mask2,'Precipitation (Tipping Bucket)'] = 0"
   ]
  },
  {
   "cell_type": "code",
   "execution_count": 4,
   "metadata": {},
   "outputs": [],
   "source": [
    "i = 0\n",
    "for column in weather_raw_df:\n",
    "    if i < 9:\n",
    "        weather_raw_df.loc[:,column] += np.absolute(weather_raw_df[column].min())\n",
    "        weather_raw_df.loc[:,column] /= weather_raw_df[column].max()\n",
    "        weather_raw_df.loc[:,column] -= np.mean(weather_raw_df[column])\n",
    "        #weather_raw_df.loc[:,column] /= np.std(weather_raw_df[column])\n",
    "    i += 1"
   ]
  },
  {
   "cell_type": "code",
   "execution_count": 5,
   "metadata": {},
   "outputs": [],
   "source": [
    "mask = weather_labels > 0\n",
    "mask2 = weather_labels <= 0\n",
    "weather_labels.loc[mask] = 1\n",
    "weather_labels.loc[mask2] = 0"
   ]
  },
  {
   "cell_type": "code",
   "execution_count": 6,
   "metadata": {},
   "outputs": [],
   "source": [
    "#one-hot-encoding\n",
    "weather_labels_ohe = pd.get_dummies(weather_labels)"
   ]
  },
  {
   "cell_type": "markdown",
   "metadata": {},
   "source": [
    "# K-Fold Cross Validation"
   ]
  },
  {
   "cell_type": "code",
   "execution_count": 7,
   "metadata": {},
   "outputs": [],
   "source": [
    "from sklearn.model_selection import train_test_split,StratifiedKFold,cross_validate,cross_val_score"
   ]
  },
  {
   "cell_type": "code",
   "execution_count": 8,
   "metadata": {},
   "outputs": [],
   "source": [
    "kfold = StratifiedKFold(n_splits=5,shuffle=True,random_state=42)"
   ]
  },
  {
   "cell_type": "code",
   "execution_count": null,
   "metadata": {},
   "outputs": [],
   "source": [
    "x_train = weather_raw_df\n",
    "y_train = weather_labels\n",
    "y_train_ohe = weather_labels_ohe"
   ]
  },
  {
   "cell_type": "markdown",
   "metadata": {},
   "source": [
    "# ANN Model"
   ]
  },
  {
   "cell_type": "code",
   "execution_count": null,
   "metadata": {},
   "outputs": [],
   "source": [
    "from keras.wrappers.scikit_learn import KerasClassifier"
   ]
  },
  {
   "cell_type": "code",
   "execution_count": null,
   "metadata": {},
   "outputs": [],
   "source": [
    "def model_const():\n",
    "    model = Sequential([\n",
    "             Reshape((1,10), input_shape=(10,)),\n",
    "             Dense(2048, activation='relu',input_shape=(1,10)),\n",
    "             MaxPool1D(1),\n",
    "             Flatten(),\n",
    "             Dense(2048, activation='relu'),\n",
    "             Dropout(0.25),\n",
    "             Dense(2048, activation='relu'),\n",
    "             Dropout(0.25),\n",
    "             Dense(2048, activation='relu'),\n",
    "             Dense(2, activation='softmax')\n",
    "        ])\n",
    "    model.compile(optimizer='sgd',\n",
    "                  loss='sparse_categorical_crossentropy',\n",
    "                  metrics=['accuracy'])\n",
    "\n",
    "    return model\n",
    "\n",
    "ANN = KerasClassifier(build_fn=model_const, epochs=10, batch_size=10, verbose=0)"
   ]
  },
  {
   "cell_type": "code",
   "execution_count": null,
   "metadata": {},
   "outputs": [],
   "source": [
    "ann_score = cross_validate(ANN, x_train, y_train, scoring=['accuracy','f1'],cv=kfold)"
   ]
  },
  {
   "cell_type": "code",
   "execution_count": null,
   "metadata": {},
   "outputs": [],
   "source": [
    "for key in ann_score:\n",
    "    print(key + \": \" + str(np.average(ann_score[key])))"
   ]
  },
  {
   "cell_type": "markdown",
   "metadata": {},
   "source": [
    "# SVM Model"
   ]
  },
  {
   "cell_type": "code",
   "execution_count": null,
   "metadata": {},
   "outputs": [],
   "source": [
    "from sklearn import svm"
   ]
  },
  {
   "cell_type": "code",
   "execution_count": null,
   "metadata": {},
   "outputs": [],
   "source": [
    "# Polynomial degree 4, C=1\n",
    "SVM = svm.SVC(kernel='poly',degree=4,C=1,gamma='scale', verbose=True)"
   ]
  },
  {
   "cell_type": "code",
   "execution_count": null,
   "metadata": {},
   "outputs": [
    {
     "name": "stdout",
     "output_type": "stream",
     "text": [
      "[LibSVM]"
     ]
    }
   ],
   "source": [
    "svm_score = cross_validate(SVM, x_train, y_train, scoring=['accuracy','f1'],cv=kfold)"
   ]
  },
  {
   "cell_type": "code",
   "execution_count": null,
   "metadata": {},
   "outputs": [],
   "source": [
    "for key in svm_score:\n",
    "    print(key + \": \" + str(np.average(svm_score[key])))"
   ]
  },
  {
   "cell_type": "markdown",
   "metadata": {},
   "source": [
    "# Random Forest Model"
   ]
  },
  {
   "cell_type": "code",
   "execution_count": null,
   "metadata": {},
   "outputs": [],
   "source": [
    "from sklearn.ensemble import RandomForestClassifier"
   ]
  },
  {
   "cell_type": "code",
   "execution_count": null,
   "metadata": {},
   "outputs": [],
   "source": [
    "#auto (n) features\n",
    "RF = RandomForestClassifier(n_estimators=500,max_features=None,random_state=42,verbose=1)"
   ]
  },
  {
   "cell_type": "code",
   "execution_count": null,
   "metadata": {},
   "outputs": [],
   "source": [
    "rf_score = cross_validate(RF, x_train, y_train,scoring=['accuracy','f1'],cv=kfold)"
   ]
  },
  {
   "cell_type": "code",
   "execution_count": null,
   "metadata": {},
   "outputs": [],
   "source": [
    "for key in rf_score:\n",
    "    print(key + \": \" + str(np.average(rf_score[key])))"
   ]
  },
  {
   "cell_type": "code",
   "execution_count": null,
   "metadata": {},
   "outputs": [],
   "source": []
  }
 ],
 "metadata": {
  "kernelspec": {
   "display_name": "Python 3",
   "language": "python",
   "name": "python3"
  },
  "language_info": {
   "codemirror_mode": {
    "name": "ipython",
    "version": 3
   },
   "file_extension": ".py",
   "mimetype": "text/x-python",
   "name": "python",
   "nbconvert_exporter": "python",
   "pygments_lexer": "ipython3",
   "version": "3.6.8"
  }
 },
 "nbformat": 4,
 "nbformat_minor": 2
}
